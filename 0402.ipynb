{
 "cells": [
  {
   "cell_type": "code",
   "execution_count": 11,
   "metadata": {},
   "outputs": [],
   "source": [
    "import requests\n",
    "from bs4 import BeautifulSoup\n",
    "from selenium import webdriver\n",
    "from selenium.webdriver.chrome.service import Service\n",
    "from selenium.webdriver.common.by import By\n",
    "\n",
    "headers = { 'User-Agent' : 'Mozila/5.0' }\n",
    "service = Service(\"/Users/parkchaeyeon/Desktop/GitHub/Data collection and visualization/chromedriver-mac-arm64/chromedriver\")\n",
    "driver = webdriver.Chrome(service=service)"
   ]
  },
  {
   "cell_type": "code",
   "execution_count": 12,
   "metadata": {},
   "outputs": [
    {
     "name": "stdout",
     "output_type": "stream",
     "text": [
      "1위 : TOO BAD (feat. Anderson .Paak) - G-DRAGON\n",
      "2위 : 모르시나요(PROD.로코베리) - 조째즈\n",
      "3위 : like JENNIE - 제니 (JENNIE)\n",
      "4위 : Drowning - WOODZ\n",
      "5위 : HOME SWEET HOME (feat. 태양, 대성) - G-DRAGON\n",
      "6위 : 나는 반딧불 - 황가람\n",
      "7위 : REBEL HEART - IVE (아이브)\n",
      "8위 : Whiplash - aespa\n",
      "9위 : 오늘만 I LOVE YOU - BOYNEXTDOOR\n",
      "10위 : APT. - 로제 (ROSÉ), Bruno Mars\n",
      "11위 : ATTITUDE - IVE (아이브)\n",
      "12위 : HAPPY - DAY6 (데이식스)\n",
      "13위 : toxic till the end - 로제 (ROSÉ)\n",
      "14위 : 내게 사랑이 뭐냐고 물어본다면 - 로이킴\n",
      "15위 : HOT - LE SSERAFIM (르세라핌)\n",
      "16위 : PO￦ER - G-DRAGON\n",
      "17위 : I DO ME - KiiiKiii (키키)\n",
      "18위 : TAKE ME - G-DRAGON\n",
      "19위 : Dash - PLAVE\n",
      "20위 : 미치게 그리워서 - 황가람\n",
      "21위 : 소나기 - 이클립스 (ECLIPSE)\n",
      "22위 : 천상연 - 이창섭\n",
      "23위 : Welcome to the Show - DAY6 (데이식스)\n",
      "24위 : Supernova - aespa\n",
      "25위 : 한 페이지가 될 수 있게 - DAY6 (데이식스)\n",
      "26위 : DRIP - BABYMONSTER\n",
      "27위 : RIZZ - PLAVE\n",
      "28위 : Flower - 오반(OVAN)\n",
      "29위 : 청춘만화 - 이무진\n",
      "30위 : 어떻게 이별까지 사랑하겠어, 널 사랑하는 거지 - AKMU (악뮤)\n",
      "31위 : Island - PLAVE\n",
      "32위 : 슬픈 초대장 - 순순희(지환)\n",
      "33위 : Die With A Smile - Lady Gaga, Bruno Mars\n",
      "34위 : 사랑은 늘 도망가 - 임영웅\n",
      "35위 : 예뻤어 - DAY6 (데이식스)\n",
      "36위 : Chroma Drift - PLAVE\n",
      "37위 : Love wins all - 아이유\n",
      "38위 : UP (KARINA Solo) - aespa\n",
      "39위 : 12:32 (A to T) - PLAVE\n",
      "40위 : 내 이름 맑음 - QWER\n",
      "41위 : 청혼하지 않을 이유를 못 찾았어 - 이무진\n",
      "42위 : The Chase - Hearts2Hearts (하츠투하츠)\n",
      "43위 : 그대만 있다면 (여름날 우리 X 너드커넥션 (Nerd Connection)) - 너드커넥션 (Nerd Connection)\n",
      "44위 : 너의 모든 순간 - 성시경\n",
      "45위 : 사랑인가 봐 - 멜로망스\n",
      "46위 : 첫 만남은 계획대로 되지 않아 - TWS (투어스)\n",
      "47위 : 무제(無題) (Untitled, 2014) - G-DRAGON\n",
      "48위 : 고민중독 - QWER\n",
      "49위 : How Sweet - NewJeans\n",
      "50위 : 비의 랩소디 - 임재현\n",
      "51위 : 우리들의 블루스 - 임영웅\n",
      "52위 : 모든 날, 모든 순간 (Every day, Every Moment) - 폴킴\n",
      "53위 : Magnetic - 아일릿(ILLIT)\n",
      "54위 : 나는 아픈 건 딱 질색이니까 - (여자)아이들\n",
      "55위 : Mantra - 제니 (JENNIE)\n",
      "56위 : 너와의 모든 지금 - 재쓰비 (JAESSBEE)\n",
      "57위 : 봄날 - 방탄소년단\n",
      "58위 : 에피소드 - 이무진\n",
      "59위 : 다정히 내 이름을 부르면 - 경서예지, 전건호\n",
      "60위 : Seven (feat. Latto) - Clean Ver. - 정국\n",
      "61위 : Supersonic - 프로미스나인\n",
      "62위 : 헤어지자 말해요 - 박재정\n",
      "63위 : 주저하는 연인들을 위해 - 잔나비\n",
      "64위 : 온기 - 임영웅\n",
      "65위 : I AM - IVE (아이브)\n",
      "66위 : MY LOVE(2025) - 이예은, 아샤트리, 전건호\n",
      "67위 : 모래 알갱이 - 임영웅\n",
      "68위 : Sweet Dreams (feat. Miguel) - j-hope, Miguel\n",
      "69위 : 인사 - 범진\n",
      "70위 : Small girl (feat. 도경수(D.O.)) - 이영지\n",
      "71위 : 미안해 미워해 사랑해 - Crush\n",
      "72위 : Hype Boy - NewJeans\n",
      "73위 : Home - 임영웅\n",
      "74위 : 취중고백 - 김민석\n",
      "75위 : 다시 만날 수 있을까 - 임영웅\n",
      "76위 : Ditto - NewJeans\n",
      "77위 : 이제 나만 믿어요 - 임영웅\n",
      "78위 : 이렇게 좋아해 본 적이 없어요 - BOYNEXTDOOR\n",
      "79위 : DRAMA - G-DRAGON\n",
      "80위 : Armageddon - aespa\n",
      "81위 : 사막에서 꽃을 피우듯 - 우디 (Woody)\n",
      "82위 : 살기 위해서 - 순순희\n",
      "83위 : Sticky - KISS OF LIFE\n",
      "84위 : Do or Die - 임영웅\n",
      "85위 : 무지개 - 임영웅\n",
      "86위 : 해야 (HEYA) - IVE (아이브)\n",
      "87위 : 너에게 닿기를 - 10CM\n",
      "88위 : 녹아내려요 - DAY6 (데이식스)\n",
      "89위 : 인생찬가 - 임영웅\n",
      "90위 : London Boy - 임영웅\n",
      "91위 : Polaroid - 임영웅\n",
      "92위 : number one girl - 로제 (ROSÉ)\n",
      "93위 : earthquake - 지수 (JISOO)\n",
      "94위 : Igloo - KISS OF LIFE\n",
      "95위 : Supernatural - NewJeans\n",
      "96위 : To. X - 태연 (TAEYEON)\n",
      "97위 : Not Like Us - Kendrick Lamar\n",
      "98위 : 연애편지 - 임영웅\n",
      "99위 : 숙녀에게 - 송필근\n",
      "100위 : IBELONGIIU - G-DRAGON\n"
     ]
    }
   ],
   "source": [
    "url_melon = \"https://www.melon.com/chart/index.htm\"\n",
    "driver.get(url_melon)\n",
    "\n",
    "top_100_list = driver.find_elements(By.CSS_SELECTOR, \".rank:not(:last-child)\")\n",
    "\n",
    "title_list = driver.find_elements(By.CSS_SELECTOR, \".ellipsis.rank01 > span > a\")\n",
    "    \n",
    "singer_list = driver.find_elements(By.CSS_SELECTOR, \".ellipsis.rank02\")\n",
    "\n",
    "for i in range(100) :\n",
    "    print(f'{top_100_list[i].text}위 : {title_list[i].text} - {singer_list[i].text}')"
   ]
  },
  {
   "cell_type": "markdown",
   "metadata": {},
   "source": [
    "오늘자 수업내용"
   ]
  },
  {
   "cell_type": "code",
   "execution_count": 13,
   "metadata": {},
   "outputs": [],
   "source": [
    "import time\n",
    "from selenium.webdriver.common.keys import Keys\n",
    "\n",
    "url_naver = \"https://www.naver.com/\"\n",
    "driver.get(url_naver)\n",
    "\n",
    "time.sleep(3)\n",
    "\n",
    "element = driver.find_element(By.CSS_SELECTOR, '#query')\n",
    "\n",
    "element.send_keys(\"한국공학대\")\n",
    "element.send_keys(Keys.RETURN)"
   ]
  },
  {
   "cell_type": "code",
   "execution_count": 28,
   "metadata": {},
   "outputs": [],
   "source": [
    "url_youtube = \"https://www.youtube.com/watch?v=XD00TJ-6WSw\"\n",
    "driver.get(url_youtube)\n",
    "time.sleep(3)"
   ]
  },
  {
   "cell_type": "code",
   "execution_count": 32,
   "metadata": {},
   "outputs": [],
   "source": [
    "scroll_count = 10\n",
    "\n",
    "for _ in range(scroll_count):\n",
    "    driver.execute_script(\"window.scrollTo(0, document.documentElement.scrollHeight);\")\n",
    "    time.sleep(5)"
   ]
  },
  {
   "cell_type": "code",
   "execution_count": 33,
   "metadata": {},
   "outputs": [],
   "source": [
    "authors = driver.find_elements(By.CSS_SELECTOR, \"#author-text\")\n",
    "comments = driver.find_elements(By.CSS_SELECTOR, \"#content-text\")"
   ]
  },
  {
   "cell_type": "code",
   "execution_count": 39,
   "metadata": {},
   "outputs": [],
   "source": [
    "data = []\n",
    "for i in range(len(authors)) :\n",
    "    data.append({\n",
    "        \"Author\" : authors[i].text.strip(),\n",
    "        \"Comment\" : comments[i].text.strip() })"
   ]
  },
  {
   "cell_type": "code",
   "execution_count": 40,
   "metadata": {},
   "outputs": [],
   "source": [
    "import pandas as pd\n",
    "\n",
    "df = pd.DataFrame(data)\n",
    "df.to_csv(\"youtube_comments.csv\", encoding = \"utf-8-sig\", index=False)"
   ]
  },
  {
   "cell_type": "markdown",
   "metadata": {},
   "source": [
    "실습"
   ]
  },
  {
   "cell_type": "code",
   "execution_count": null,
   "metadata": {},
   "outputs": [],
   "source": [
    "from selenium import webdriver\n",
    "from selenium.webdriver.chrome.service import Service\n",
    "from selenium.webdriver.common.by import By\n",
    "import time\n",
    "from selenium.webdriver.common.keys import Keys\n",
    "import pandas as pd\n",
    "\n",
    "service = Service(\"/Users/parkchaeyeon/Desktop/GitHub/Data collection and visualization/chromedriver-mac-arm64/chromedriver\")\n",
    "driver = webdriver.Chrome(service = service)\n",
    "\n",
    "url_naver = \"https://www.naver.com/\"\n",
    "driver.get(url_naver)\n",
    "time.sleep(3)\n",
    "\n",
    "element = driver.find_element(By.CSS_SELECTOR, \"#query\")\n",
    "element.send_keys(\"제니\")\n",
    "element.send_keys(Keys.RETURN)\n",
    "\n",
    "driver.find_element(By.CSS_SELECTOR, \".flick_bx:nth-child(2)\").click()\n",
    "time.sleep(5)\n",
    "\n",
    "news_tit = driver.find_elements(By.CSS_SELECTOR, \".news_tit\")\n",
    "title = []\n",
    "for tit in news_tit :\n",
    "    title.append(tit.text)\n",
    "    \n",
    "news_title_df = pd.DataFrame(title)\n",
    "news_title_df.to_csv(\"jennie_news_titles.csv\", encoding=\"utf-8-sig\", index=False)"
   ]
  }
 ],
 "metadata": {
  "kernelspec": {
   "display_name": "base",
   "language": "python",
   "name": "python3"
  },
  "language_info": {
   "codemirror_mode": {
    "name": "ipython",
    "version": 3
   },
   "file_extension": ".py",
   "mimetype": "text/x-python",
   "name": "python",
   "nbconvert_exporter": "python",
   "pygments_lexer": "ipython3",
   "version": "3.12.4"
  }
 },
 "nbformat": 4,
 "nbformat_minor": 2
}
