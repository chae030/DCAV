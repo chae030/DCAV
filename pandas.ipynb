{
 "cells": [
  {
   "cell_type": "markdown",
   "metadata": {},
   "source": [
    "# Pandas - 실습 과제"
   ]
  },
  {
   "cell_type": "code",
   "execution_count": 60,
   "metadata": {},
   "outputs": [],
   "source": [
    "import pandas as pd\n",
    "import numpy as np"
   ]
  },
  {
   "cell_type": "code",
   "execution_count": 61,
   "metadata": {},
   "outputs": [
    {
     "name": "stdout",
     "output_type": "stream",
     "text": [
      "     SID HW1 HW2 Quiz Mid-term Final  Sum  Mean\n",
      "0   S001  20  20   20       20    20  100  20.0\n",
      "1   S002   8  20   20       20    10   78  15.6\n",
      "2   S003  20  18   18       18    10   84  16.8\n",
      "3   S004  20  20   20       18    10   88  17.6\n",
      "4   S005  10  18   18       18     5   69  13.8\n",
      "5   S006  18  18   18       15     5   74  14.8\n",
      "6   S007  10  18   18       10     3   59  11.8\n",
      "7   S008  20  20   20       20    15   95  19.0\n",
      "8   S009  15  18   10       18     5   66  13.2\n",
      "9   S010  19  17   17       17    17   87  17.4\n",
      "10  S011  20  18   18       18    10   84  16.8\n",
      "11  S012  20  18   18       18     5   79  15.8\n",
      "12  S013  15  18   10       20     7   70  14.0\n",
      "13  S014   5  15   10       10    15   55  11.0\n",
      "14  S015  10  15   15       15     3   58  11.6\n"
     ]
    }
   ],
   "source": [
    "f = open('grade.csv', 'r')\n",
    "lines = f.readlines()\n",
    "f.close()\n",
    "\n",
    "line_1 = lines[0].strip().split(',')\n",
    "data = [line.strip().split(',') for line in lines[1:]]\n",
    "\n",
    "df = pd.DataFrame(data, columns=line_1)\n",
    "df.iloc[:, 1:] = df.iloc[:, 1:].astype(int)\n",
    "df['Sum'] = df.iloc[:, 1:].sum(axis=1)\n",
    "df['Mean'] = df.iloc[:, 1:-1].mean(axis=1)\n",
    "\n",
    "print(df)"
   ]
  },
  {
   "cell_type": "code",
   "execution_count": 62,
   "metadata": {},
   "outputs": [
    {
     "name": "stdout",
     "output_type": "stream",
     "text": [
      "   ID     Name  Age  Salary\n",
      "0   1    Alice   25   50000\n",
      "1   2      Bob   30   60000\n",
      "2   3  Charlie   35   70000\n",
      "3   4    David   40   80000\n",
      "4   5      Eva   45   90000 \n",
      "\n",
      "   ID     Name  Age  Salary\n",
      "0   1    Alice   25   50000\n",
      "1   2      Bob   30   60000\n",
      "2   3  Charlie   35   70000 \n",
      "\n",
      "      Name  Salary\n",
      "0    Alice   50000\n",
      "1      Bob   60000\n",
      "2  Charlie   70000\n",
      "3    David   80000\n",
      "4      Eva   90000 \n",
      "\n",
      "   ID     Name  Age  Salary\n",
      "1   2      Bob   30   60000\n",
      "2   3  Charlie   35   70000\n",
      "3   4    David   40   80000\n",
      "4   5      Eva   45   90000\n"
     ]
    }
   ],
   "source": [
    "df_salary = pd.DataFrame([\n",
    "    [1, 'Alice', 25, 50000],\n",
    "    [2, 'Bob', 30, 60000],\n",
    "    [3, 'Charlie', 35, 70000],\n",
    "    [4, 'David', 40, 80000],\n",
    "    [5, 'Eva', 45, 90000]\n",
    "], columns=['ID', 'Name', 'Age', 'Salary'])\n",
    "\n",
    "print(df_salary, '\\n')\n",
    "print(df_salary.iloc[:3], '\\n')\n",
    "df_name_salary = df_salary[['Name', 'Salary']]\n",
    "print(df_name_salary, '\\n')\n",
    "print(df_salary[df_salary['Age'] >= 30])\n"
   ]
  },
  {
   "cell_type": "code",
   "execution_count": 64,
   "metadata": {},
   "outputs": [
    {
     "name": "stdout",
     "output_type": "stream",
     "text": [
      "   ID   Name   Age   Salary\n",
      "0   1  Alice  25.0  50000.0\n",
      "1   2    Bob   NaN  60000.0\n",
      "2   3    NaN  35.0      NaN\n",
      "3   4  David  40.0  80000.0\n",
      "4   5    Eva   NaN  90000.0 \n",
      "\n",
      "ID        0\n",
      "Name      1\n",
      "Age       2\n",
      "Salary    1\n",
      "dtype: int64 \n",
      "\n",
      "4 \n",
      "\n"
     ]
    },
    {
     "data": {
      "text/plain": [
       "0    50000.0\n",
       "1    60000.0\n",
       "2        0.0\n",
       "3    80000.0\n",
       "4    90000.0\n",
       "Name: Salary, dtype: float64"
      ]
     },
     "execution_count": 64,
     "metadata": {},
     "output_type": "execute_result"
    }
   ],
   "source": [
    "df_salary = pd.DataFrame([\n",
    "    [1, 'Alice', 25, 50000],\n",
    "    [2, 'Bob', np.nan, 60000],\n",
    "    [3, np.nan, 35, np.nan],\n",
    "    [4, 'David', 40, 80000],\n",
    "    [5, 'Eva', np.nan, 90000]\n",
    "], columns=['ID', 'Name', 'Age', 'Salary'])\n",
    "\n",
    "print(df_salary, '\\n')\n",
    "print(df_salary.isna().sum(), '\\n')\n",
    "print(df_salary.isna().sum().sum(), '\\n')\n",
    "\n",
    "df_salary['Age'].fillna(value = df_salary['Age'].mean())\n",
    "df_salary['Name'].fillna(value = 'Unknown')\n",
    "df_salary['Salary'].fillna(0)"
   ]
  },
  {
   "cell_type": "code",
   "execution_count": 67,
   "metadata": {},
   "outputs": [
    {
     "name": "stdout",
     "output_type": "stream",
     "text": [
      "   ID     Name Department  Salary\n",
      "0   1    Alice         HR   50000\n",
      "1   2      Bob         IT   60000\n",
      "2   3  Charlie         IT   70000\n",
      "3   4    David         HR   80000\n",
      "4   5      Eva         IT   90000\n"
     ]
    },
    {
     "data": {
      "text/plain": [
       "Department\n",
       "HR    65000.000000\n",
       "IT    73333.333333\n",
       "Name: Salary, dtype: float64"
      ]
     },
     "execution_count": 67,
     "metadata": {},
     "output_type": "execute_result"
    }
   ],
   "source": [
    "df = pd.DataFrame([\n",
    "    [1, 'Alice', 'HR', 50000],\n",
    "    [2, 'Bob', 'IT', 60000],\n",
    "    [3, 'Charlie', 'IT', 70000],\n",
    "    [4, 'David', 'HR', 80000],\n",
    "    [5, 'Eva', 'IT', 90000]\n",
    "], columns=['ID', 'Name', 'Department', 'Salary'])\n",
    "\n",
    "print(df)\n",
    "\n",
    "average_salary = df.groupby('Department')['Salary'].mean()\n",
    "average_salary"
   ]
  },
  {
   "cell_type": "code",
   "execution_count": 71,
   "metadata": {},
   "outputs": [
    {
     "name": "stdout",
     "output_type": "stream",
     "text": [
      "   ID   Name  Age  Salary\n",
      "0   1  Alice   25   50000\n",
      "1   2    Bob   30   60000 \n",
      "\n",
      "   ID     Name  Age   Salary\n",
      "0   1    Alice   25  50000.0\n",
      "1   2      Bob   30  60000.0\n",
      "2   3  Charlie   35      NaN \n",
      "\n",
      "   ID     Name   Age   Salary\n",
      "0   1    Alice  25.0  50000.0\n",
      "1   2      Bob  30.0  60000.0\n",
      "2   3  Charlie  35.0      NaN\n",
      "3   4      NaN   NaN  80000.0\n"
     ]
    }
   ],
   "source": [
    "df1 = pd.DataFrame([\n",
    "    [1, 'Alice', 25],\n",
    "    [2, 'Bob', 30],\n",
    "    [3, 'Charlie', 35]\n",
    "], columns=['ID', 'Name', 'Age'])\n",
    "\n",
    "df2 = pd.DataFrame([\n",
    "    [1, 50000],\n",
    "    [2, 60000],\n",
    "    [4, 80000]\n",
    "], columns=['ID', 'Salary'])\n",
    "\n",
    "inner_join = pd.merge(df1, df2, on='ID', how='inner')\n",
    "print(inner_join, '\\n')\n",
    "\n",
    "left_join = pd.merge(df1, df2, on='ID', how='left')\n",
    "print(left_join, '\\n')\n",
    "\n",
    "outer_join = pd.merge(df1, df2, on='ID', how='outer')\n",
    "print(outer_join)"
   ]
  },
  {
   "cell_type": "code",
   "execution_count": 81,
   "metadata": {},
   "outputs": [
    {
     "name": "stdout",
     "output_type": "stream",
     "text": [
      "      Name  Score Result\n",
      "0    Alice     85   Pass\n",
      "1      Bob     40   Fail\n",
      "2  Charlie     70   Pass\n",
      "3    David     90   Pass\n",
      "4      Eva     30   Fail\n"
     ]
    }
   ],
   "source": [
    "df = pd.DataFrame([\n",
    "    ['Alice', 85],\n",
    "    ['Bob', 40],\n",
    "    ['Charlie', 70],\n",
    "    ['David', 90],\n",
    "    ['Eva', 30]\n",
    "], columns=['Name', 'Score'])\n",
    "\n",
    "df['Result'] = df['Score'].apply(lambda x: 'Pass' if x >= 50 else 'Fail')\n",
    "\n",
    "print(df)"
   ]
  }
 ],
 "metadata": {
  "kernelspec": {
   "display_name": "base",
   "language": "python",
   "name": "python3"
  },
  "language_info": {
   "codemirror_mode": {
    "name": "ipython",
    "version": 3
   },
   "file_extension": ".py",
   "mimetype": "text/x-python",
   "name": "python",
   "nbconvert_exporter": "python",
   "pygments_lexer": "ipython3",
   "version": "3.12.4"
  }
 },
 "nbformat": 4,
 "nbformat_minor": 2
}
