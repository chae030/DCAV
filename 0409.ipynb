{
 "cells": [
  {
   "cell_type": "code",
   "execution_count": 9,
   "id": "62199a67-bd81-4a06-84fa-9e7c16630d32",
   "metadata": {},
   "outputs": [],
   "source": [
    "from selenium import webdriver\n",
    "from selenium.webdriver.chrome.service import Service\n",
    "from selenium.webdriver.common.by import By\n",
    "from selenium.webdriver.common.keys import Keys\n",
    "import pandas as pd\n",
    "import time\n",
    "\n",
    "driver = webdriver.Chrome()"
   ]
  },
  {
   "cell_type": "code",
   "execution_count": 16,
   "id": "1f34665b-c552-4c93-ad5a-8b3f6ef91768",
   "metadata": {},
   "outputs": [],
   "source": [
    "# 과제 내용\n",
    "# 제니 입력 후 뉴스 탭 클릭하여 출력되는 뉴스 제목 수집, CSV파일로 저장\n",
    "\n",
    "url_naver = \"https://www.naver.com/\"\n",
    "driver.get(url_naver)\n",
    "time.sleep(1)\n",
    "\n",
    "element = driver.find_element(By.CSS_SELECTOR, \"#query\")\n",
    "element.send_keys(\"제니\")\n",
    "element.send_keys(Keys.RETURN)"
   ]
  },
  {
   "cell_type": "code",
   "execution_count": 15,
   "id": "6d4d73fd-ebfc-4013-b4d7-6bfe949ca933",
   "metadata": {},
   "outputs": [],
   "source": [
    "from nltk.tokenize import word_tokenize\n",
    "from nltk.tokenize import WordPunctTokenizer"
   ]
  },
  {
   "cell_type": "code",
   "execution_count": 14,
   "id": "8995fa94-74d5-495f-a0f4-1499e430028f",
   "metadata": {},
   "outputs": [],
   "source": [
    "from tensorflow.keras.preprocessing.text import text_to_word_sequence"
   ]
  },
  {
   "cell_type": "code",
   "execution_count": 13,
   "id": "e9ce5bc0-8156-4584-bbe6-8f2b33c5cbc8",
   "metadata": {},
   "outputs": [],
   "source": [
    "from konlpy.tag import Okt"
   ]
  },
  {
   "cell_type": "code",
   "execution_count": 21,
   "id": "8ae978ae-04c0-4d03-bc77-d839c453c819",
   "metadata": {},
   "outputs": [
    {
     "name": "stderr",
     "output_type": "stream",
     "text": [
      "[nltk_data] Downloading package punkt to\n",
      "[nltk_data]     /Users/parkchaeyeon/nltk_data...\n",
      "[nltk_data]   Package punkt is already up-to-date!\n"
     ]
    },
    {
     "data": {
      "text/plain": [
       "True"
      ]
     },
     "execution_count": 21,
     "metadata": {},
     "output_type": "execute_result"
    }
   ],
   "source": [
    "import nltk\n",
    "nltk.download('punkt')"
   ]
  },
  {
   "cell_type": "code",
   "execution_count": 24,
   "id": "1a37ed3c-6812-4d4d-bff3-2792c5f0793a",
   "metadata": {},
   "outputs": [
    {
     "data": {
      "text/plain": [
       "['안녕하세요', '박채연입니다']"
      ]
     },
     "execution_count": 24,
     "metadata": {},
     "output_type": "execute_result"
    }
   ],
   "source": [
    "text = \"안녕하세요 박채연입니다\"\n",
    "word_tokenize(text)"
   ]
  },
  {
   "cell_type": "code",
   "execution_count": 22,
   "id": "8dcf0b00-648d-475a-80e2-947020e7f018",
   "metadata": {},
   "outputs": [
    {
     "name": "stdout",
     "output_type": "stream",
     "text": [
      "단어 토큰화 1 :  [\"Dont't\", 'be', 'fooled', 'by', 'the', 'dark', 'sounding', 'name', ',', 'Mr.', 'Jone', \"'s\", 'Orphange', 'is', 'as', 'cherry', 'as', 'cherry', 'goes', 'for', 'a', 'pastry', 'shop', '.']\n"
     ]
    }
   ],
   "source": [
    "print(\"단어 토큰화 1 : \", word_tokenize(\"Dont't be fooled by the dark sounding name, Mr. Jone's Orphange is as cherry as cherry goes for a pastry shop.\"))"
   ]
  },
  {
   "cell_type": "code",
   "execution_count": 23,
   "id": "afd92b92-097c-4cf2-aef8-b72a459a2753",
   "metadata": {},
   "outputs": [
    {
     "name": "stdout",
     "output_type": "stream",
     "text": [
      "단어 토큰화 2 :  ['Dont', \"'\", 't', 'be', 'fooled', 'by', 'the', 'dark', 'sounding', 'name', ',', 'Mr', '.', 'Jone', \"'\", 's', 'Orphange', 'is', 'as', 'cherry', 'as', 'cherry', 'goes', 'for', 'a', 'pastry', 'shop', '.']\n"
     ]
    }
   ],
   "source": [
    "print(\"단어 토큰화 2 : \", WordPunctTokenizer().tokenize(\"Dont't be fooled by the dark sounding name, Mr. Jone's Orphange is as cherry as cherry goes for a pastry shop.\"))"
   ]
  },
  {
   "cell_type": "code",
   "execution_count": 45,
   "id": "af00ffc8-541b-499d-a222-2bddba9a4186",
   "metadata": {},
   "outputs": [
    {
     "name": "stdout",
     "output_type": "stream",
     "text": [
      "단어 토큰화 3 :  [\"dont't\", 'be', 'fooled', 'by', 'the', 'dark', 'sounding', 'name', 'mr', \"jone's\", 'orphange', 'is', 'as', 'cherry', 'as', 'cherry', 'goes', 'for', 'a', 'pastry', 'shop']\n"
     ]
    }
   ],
   "source": [
    "print(\"단어 토큰화 3 : \", text_to_word_sequence(\"Dont't be fooled by the dark sounding name, Mr. Jone's Orphange is as cherry as cherry goes for a pastry shop.\"))"
   ]
  }
 ],
 "metadata": {
  "kernelspec": {
   "display_name": "base",
   "language": "python",
   "name": "python3"
  },
  "language_info": {
   "codemirror_mode": {
    "name": "ipython",
    "version": 3
   },
   "file_extension": ".py",
   "mimetype": "text/x-python",
   "name": "python",
   "nbconvert_exporter": "python",
   "pygments_lexer": "ipython3",
   "version": "3.12.4"
  }
 },
 "nbformat": 4,
 "nbformat_minor": 5
}
