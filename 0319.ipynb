{
 "cells": [
  {
   "cell_type": "markdown",
   "metadata": {},
   "source": [
    "# series 시리즈 (1차원 배열)\n",
    "1. 딕셔너리로 시리즈 생성\n",
    "2. 리스트로 시리즈 생성"
   ]
  },
  {
   "cell_type": "code",
   "execution_count": 1,
   "metadata": {},
   "outputs": [
    {
     "name": "stdout",
     "output_type": "stream",
     "text": [
      "0    20\n",
      "1     8\n",
      "2    20\n",
      "3    20\n",
      "4    10\n",
      "dtype: int64\n"
     ]
    }
   ],
   "source": [
    "import pandas as pd\n",
    "\n",
    "s = pd.Series([20, 8, 20, 20, 10])\n",
    "print(s)"
   ]
  },
  {
   "cell_type": "code",
   "execution_count": 9,
   "metadata": {},
   "outputs": [
    {
     "name": "stdout",
     "output_type": "stream",
     "text": [
      "서울    940\n",
      "부산    330\n",
      "울산    110\n",
      "dtype: int64 \n",
      "\n",
      "부산    330\n",
      "울산    110\n",
      "dtype: int64\n"
     ]
    }
   ],
   "source": [
    "import pandas as pd\n",
    "city = {'서울': 940, '부산': 330, '울산': 110}\n",
    "df = pd.Series(city)      # 판다스의 Series 메서드를 사용하여 시리즈를 생성한다.\n",
    "print(df,\"\\n\")\n",
    "df = pd.Series(city, index = ['부산', '울산'])\n",
    "print(df)"
   ]
  },
  {
   "cell_type": "code",
   "execution_count": 2,
   "metadata": {},
   "outputs": [
    {
     "name": "stdout",
     "output_type": "stream",
     "text": [
      "0    서울\n",
      "1    부산\n",
      "2    울산\n",
      "dtype: object\n",
      "x    서울\n",
      "y    부산\n",
      "z    울산\n",
      "dtype: object\n"
     ]
    }
   ],
   "source": [
    "import pandas as pd\n",
    "city = ['서울', '부산', '울산']\n",
    "df = pd.Series(city)\n",
    "print(df)\n",
    "df = pd.Series(city, index = ['x', 'y', 'z'])\n",
    "print(df)"
   ]
  },
  {
   "cell_type": "markdown",
   "metadata": {},
   "source": [
    "# dataframe 데이터프레임 (2차원 배열)"
   ]
  },
  {
   "cell_type": "code",
   "execution_count": 6,
   "metadata": {},
   "outputs": [
    {
     "name": "stdout",
     "output_type": "stream",
     "text": [
      "   HW1\n",
      "0   20\n",
      "1    8\n",
      "2   20\n",
      "3   20\n",
      "4   10\n"
     ]
    }
   ],
   "source": [
    "df = pd.DataFrame([20, 8, 20, 20, 10], columns=['HW1'])\n",
    "print(df)"
   ]
  },
  {
   "cell_type": "code",
   "execution_count": 12,
   "metadata": {},
   "outputs": [
    {
     "name": "stdout",
     "output_type": "stream",
     "text": [
      "   도시   인구\n",
      "1  서울  940\n",
      "2  부산  330\n",
      "3  울산  110 \n",
      "\n",
      "   도시   인구\n",
      "0  서울  940\n",
      "1  부산  330\n",
      "2  울산  110 \n",
      "\n",
      "도시     서울\n",
      "인구    940\n",
      "Name: 0, dtype: object \n",
      "\n",
      "   도시   인구\n",
      "0  서울  940 \n",
      "\n",
      "   도시   인구\n",
      "0  서울  940\n",
      "2  울산  110\n"
     ]
    }
   ],
   "source": [
    "city = {\n",
    "    '도시': ['서울', '부산', '울산'],\n",
    "    '인구': [940, 330, 110]\n",
    "}\n",
    "df = pd.DataFrame(city, index=range(1, 4))\n",
    "print(df, \"\\n\") \n",
    "df = pd.DataFrame(city)\n",
    "print(df, \"\\n\")               # DataFrame 메서드를 사용하여 데이터프레임을 생성한다.\n",
    "print(df.loc[0], \"\\n\")         # 시리즈 형태로 보여준다.\n",
    "print(df.loc[[0]], \"\\n\")      # 데이터프레임 형태로 보여준다.\n",
    "print(df.loc[[0, 2]])           # 0행, 2행만 출력"
   ]
  },
  {
   "cell_type": "markdown",
   "metadata": {},
   "source": [
    "# 1D Table with an Index"
   ]
  },
  {
   "cell_type": "code",
   "execution_count": 13,
   "metadata": {},
   "outputs": [
    {
     "name": "stdout",
     "output_type": "stream",
     "text": [
      "SID\n",
      "S001    20\n",
      "S002     8\n",
      "S003    20\n",
      "S004    20\n",
      "S005    10\n",
      "Name: HW1, dtype: int64\n"
     ]
    }
   ],
   "source": [
    "# Series by List\n",
    "\n",
    "s = pd.Series([20, 8, 20, 20, 10],\n",
    "        index = [\"S001\", \"S002\", \"S003\", \"S004\", \"S005\"],\n",
    "        name = 'HW1')\n",
    "s.index.name = 'SID'\n",
    "print(s)"
   ]
  },
  {
   "cell_type": "code",
   "execution_count": 16,
   "metadata": {},
   "outputs": [
    {
     "name": "stdout",
     "output_type": "stream",
     "text": [
      "      HW1\n",
      "SID      \n",
      "S001   20\n",
      "S002    8\n",
      "S003   20\n",
      "S004   20\n",
      "S005   10\n"
     ]
    }
   ],
   "source": [
    "# Data Frame by List\n",
    "\n",
    "df = pd.DataFrame([20, 8, 20, 20, 10],\n",
    "        index = [\"S001\", \"S002\", \"S003\", \"S004\", \"S005\"],\n",
    "        columns = ['HW1'])\n",
    "df.index.name = 'SID'\n",
    "print(df)"
   ]
  },
  {
   "cell_type": "markdown",
   "metadata": {},
   "source": [
    "# 2D Table without an Index"
   ]
  },
  {
   "cell_type": "code",
   "execution_count": 21,
   "metadata": {},
   "outputs": [
    {
     "name": "stdout",
     "output_type": "stream",
     "text": [
      "   HW1  HW2  Quiz\n",
      "0   20   20    20\n",
      "1    8   20    20\n",
      "2   20   18    18\n",
      "3   20   20    20\n",
      "4   10   18    18 \n",
      "\n",
      "     HW1  HW2  Quiz\n",
      "SID                \n",
      "0     20   20    20\n",
      "1      8   20    20\n",
      "2     20   18    18\n",
      "3     20   20    20\n",
      "4     10   18    18\n"
     ]
    }
   ],
   "source": [
    "# Data Frame by List\n",
    "\n",
    "df = pd.DataFrame([[20, 20, 20], [8, 20, 20], [20, 18, 18], [20, 20, 20], [10, 18, 18]],\n",
    "        columns = ['HW1', 'HW2', 'Quiz'])\n",
    "print(df, \"\\n\")\n",
    "df.index.name = 'SID'\n",
    "print(df)"
   ]
  },
  {
   "cell_type": "code",
   "execution_count": 23,
   "metadata": {},
   "outputs": [
    {
     "name": "stdout",
     "output_type": "stream",
     "text": [
      "   HW1  HW2  Quiz\n",
      "0   20   20    20\n",
      "1    8   20    20\n",
      "2   20   18    18\n",
      "3   20   20    20\n",
      "4   10   18    18 \n",
      "\n",
      "     HW1  HW2  Quiz\n",
      "SID                \n",
      "0     20   20    20\n",
      "1      8   20    20\n",
      "2     20   18    18\n",
      "3     20   20    20\n",
      "4     10   18    18\n"
     ]
    }
   ],
   "source": [
    "# Data Frame by Dictionary and List\n",
    "\n",
    "df = pd.DataFrame({\n",
    "    'HW1' : [20, 8, 20, 20, 10],\n",
    "    'HW2' : [20, 20, 18, 20, 18],\n",
    "    'Quiz' : [20, 20, 18, 20, 18]})\n",
    "print(df, \"\\n\")\n",
    "df.index.name = 'SID'\n",
    "print(df)"
   ]
  },
  {
   "cell_type": "markdown",
   "metadata": {},
   "source": [
    "# Operations"
   ]
  },
  {
   "cell_type": "code",
   "execution_count": 24,
   "metadata": {},
   "outputs": [
    {
     "name": "stdout",
     "output_type": "stream",
     "text": [
      "HW1     15.6\n",
      "HW2     19.2\n",
      "Quiz    19.2\n",
      "dtype: float64\n"
     ]
    }
   ],
   "source": [
    "df = pd.DataFrame({\n",
    "    'HW1' : [20, 8, 20, 20, 10],\n",
    "    'HW2' : [20, 20, 18, 20, 18],\n",
    "    'Quiz' : [20, 20, 18, 20, 18]},\n",
    "    index = [\"S001\", \"S002\", \"S003\", \"S004\", \"S005\"])\n",
    "print(df.mean())        # 열 별로 평균 구함"
   ]
  },
  {
   "cell_type": "markdown",
   "metadata": {},
   "source": [
    "# Object Creation"
   ]
  },
  {
   "cell_type": "code",
   "execution_count": 25,
   "metadata": {},
   "outputs": [
    {
     "name": "stdout",
     "output_type": "stream",
     "text": [
      "0    1.0\n",
      "1    3.0\n",
      "2    5.0\n",
      "3    NaN\n",
      "4    6.0\n",
      "5    8.0\n",
      "dtype: float64\n"
     ]
    }
   ],
   "source": [
    "import numpy as np\n",
    "import pandas as pd\n",
    "\n",
    "s = pd.Series([1, 3, 5, np.nan, 6, 8])  # nan(not a number) : float형태로 값이 없음\n",
    "print(s)"
   ]
  },
  {
   "cell_type": "markdown",
   "metadata": {},
   "source": [
    "# Viewing Data"
   ]
  },
  {
   "cell_type": "code",
   "execution_count": 56,
   "metadata": {},
   "outputs": [
    {
     "name": "stdout",
     "output_type": "stream",
     "text": [
      "                   A         B         C         D\n",
      "2020-01-01 -1.697775 -1.377292  1.010088 -0.572160\n",
      "2020-01-02 -1.641806  0.953435 -0.423993  0.412334\n",
      "2020-01-03  0.382440 -0.628248 -0.373389  1.933298\n",
      "2020-01-04  1.709317  0.594258 -0.785237  0.783878\n",
      "2020-01-05 -0.283077  0.911922  0.078006  0.952589\n",
      "2020-01-06  1.479968 -1.315190  1.510730  0.630564 \n",
      "\n",
      "                   A         B         C         D\n",
      "2020-01-01 -1.697775 -1.377292  1.010088 -0.572160\n",
      "2020-01-02 -1.641806  0.953435 -0.423993  0.412334\n",
      "2020-01-03  0.382440 -0.628248 -0.373389  1.933298\n",
      "2020-01-04  1.709317  0.594258 -0.785237  0.783878\n",
      "2020-01-05 -0.283077  0.911922  0.078006  0.952589\n"
     ]
    }
   ],
   "source": [
    "import numpy as np\n",
    "import pandas as pd\n",
    "\n",
    "dates = pd.date_range('20200101', periods=6)\n",
    "# date_range : 날짜 데이터 생성, periods : 개수\n",
    "df = pd.DataFrame(np.random.randn(6, 4), index=dates, columns=list('ABCD'))\n",
    "# np.random.randn() : 표준정규분포표에서 임의의 수 추출한 뒤 N차원 배열 생성 ((6, 4) 는 6*4 배열)\n",
    "\n",
    "print(df, '\\n')\n",
    "print(df.head())    # head() : 상위 5행 출력"
   ]
  },
  {
   "cell_type": "code",
   "execution_count": 54,
   "metadata": {},
   "outputs": [
    {
     "name": "stdout",
     "output_type": "stream",
     "text": [
      "DatetimeIndex(['2020-01-01', '2020-01-02', '2020-01-03', '2020-01-04',\n",
      "               '2020-01-05', '2020-01-06'],\n",
      "              dtype='datetime64[ns]', freq='D') \n",
      "\n",
      "Index(['A', 'B', 'C', 'D'], dtype='object')\n"
     ]
    }
   ],
   "source": [
    "print(df.index, '\\n')   # index만 출력 (행 이름)\n",
    "print(df.columns)       # columns만 출력 (열 이름)"
   ]
  },
  {
   "cell_type": "code",
   "execution_count": 59,
   "metadata": {},
   "outputs": [
    {
     "name": "stdout",
     "output_type": "stream",
     "text": [
      "              A         B         C         D\n",
      "count  6.000000  6.000000  6.000000  6.000000\n",
      "mean  -0.008489 -0.143519  0.169367  0.690084\n",
      "std    1.477565  1.094673  0.902479  0.812064\n",
      "min   -1.697775 -1.377292 -0.785237 -0.572160\n",
      "25%   -1.302124 -1.143455 -0.411342  0.466892\n",
      "50%    0.049681 -0.016995 -0.147692  0.707221\n",
      "75%    1.205586  0.832506  0.777068  0.910411\n",
      "max    1.709317  0.953435  1.510730  1.933298 \n",
      "\n",
      "   2020-01-01  2020-01-02  2020-01-03  2020-01-04  2020-01-05  2020-01-06\n",
      "A   -1.697775   -1.641806    0.382440    1.709317   -0.283077    1.479968\n",
      "B   -1.377292    0.953435   -0.628248    0.594258    0.911922   -1.315190\n",
      "C    1.010088   -0.423993   -0.373389   -0.785237    0.078006    1.510730\n",
      "D   -0.572160    0.412334    1.933298    0.783878    0.952589    0.630564\n"
     ]
    }
   ],
   "source": [
    "print(df.describe(), '\\n')      # discribe() : 데이터의 컬럼별 요약 통계량을 나타냄\n",
    "print(df.T)                     # T : row 와 column 바꾸기"
   ]
  },
  {
   "cell_type": "code",
   "execution_count": 65,
   "metadata": {},
   "outputs": [
    {
     "name": "stdout",
     "output_type": "stream",
     "text": [
      "                   D         C         B         A\n",
      "2020-01-01 -0.572160  1.010088 -1.377292 -1.697775\n",
      "2020-01-02  0.412334 -0.423993  0.953435 -1.641806\n",
      "2020-01-03  1.933298 -0.373389 -0.628248  0.382440\n",
      "2020-01-04  0.783878 -0.785237  0.594258  1.709317\n",
      "2020-01-05  0.952589  0.078006  0.911922 -0.283077\n",
      "2020-01-06  0.630564  1.510730 -1.315190  1.479968 \n",
      "\n",
      "                   A         B         C         D\n",
      "2020-01-06  1.479968 -1.315190  1.510730  0.630564\n",
      "2020-01-05 -0.283077  0.911922  0.078006  0.952589\n",
      "2020-01-04  1.709317  0.594258 -0.785237  0.783878\n",
      "2020-01-03  0.382440 -0.628248 -0.373389  1.933298\n",
      "2020-01-02 -1.641806  0.953435 -0.423993  0.412334\n",
      "2020-01-01 -1.697775 -1.377292  1.010088 -0.572160\n"
     ]
    }
   ],
   "source": [
    "print(df.sort_index(axis=1, ascending=False), '\\n')     # axis=1 : 열 기준 정렬\n",
    "print(df.sort_index(axis=0, ascending=False))           # axis=0 : 행 기준 정렬, ascending=False 이므로 내림차순"
   ]
  },
  {
   "cell_type": "code",
   "execution_count": 77,
   "metadata": {},
   "outputs": [
    {
     "name": "stdout",
     "output_type": "stream",
     "text": [
      "                   A         B         C         D\n",
      "2020-01-01 -1.697775 -1.377292  1.010088 -0.572160\n",
      "2020-01-06  1.479968 -1.315190  1.510730  0.630564\n",
      "2020-01-03  0.382440 -0.628248 -0.373389  1.933298\n",
      "2020-01-04  1.709317  0.594258 -0.785237  0.783878\n",
      "2020-01-05 -0.283077  0.911922  0.078006  0.952589\n",
      "2020-01-02 -1.641806  0.953435 -0.423993  0.412334 \n",
      "\n",
      "                   A         B         C         D\n",
      "2020-01-02 -1.641806  0.953435 -0.423993  0.412334\n",
      "2020-01-05 -0.283077  0.911922  0.078006  0.952589\n",
      "2020-01-04  1.709317  0.594258 -0.785237  0.783878\n",
      "2020-01-03  0.382440 -0.628248 -0.373389  1.933298\n",
      "2020-01-06  1.479968 -1.315190  1.510730  0.630564\n",
      "2020-01-01 -1.697775 -1.377292  1.010088 -0.572160 \n",
      "\n",
      "                   A         B         C         D\n",
      "2020-01-01 -1.697775 -1.377292  1.010088 -0.572160\n",
      "2020-01-06  1.479968 -1.315190  1.510730  0.630564\n",
      "2020-01-03  0.382440 -0.628248 -0.373389  1.933298\n",
      "2020-01-04  1.709317  0.594258 -0.785237  0.783878\n",
      "2020-01-05 -0.283077  0.911922  0.078006  0.952589\n",
      "2020-01-02 -1.641806  0.953435 -0.423993  0.412334\n"
     ]
    }
   ],
   "source": [
    "# sort_values() : 데이터 값을 기준으로 정렬\n",
    "# by=['B'] : 특정 열의 값을 기준으로 정렬 (B 기준)\n",
    "# ascending(상승) : True-오름차순, False-내림차순\n",
    "\n",
    "print(df.sort_values(by=['B']), '\\n')\n",
    "print(df.sort_values(by='B', ascending=False), '\\n')\n",
    "print(df.sort_values(by=['B', 'D'], ascending=[True, False]))   # B가 같은 경우 -> D 기준 정렬"
   ]
  },
  {
   "cell_type": "code",
   "execution_count": 97,
   "metadata": {},
   "outputs": [
    {
     "name": "stdout",
     "output_type": "stream",
     "text": [
      "             A   B   C   D\n",
      "2020-01-01   0   1   2   3\n",
      "2020-01-02   4   5   6   7\n",
      "2020-01-03   8   9  10  11\n",
      "2020-01-04  12  13  14  15\n",
      "2020-01-05  16  17  18  19\n",
      "2020-01-06  20  21  22  23 \n",
      "\n",
      "             A   B   C   D\n",
      "2020-01-06  20  21  22  23\n",
      "2020-01-05  16  17  18  19\n",
      "2020-01-04  12  13  14  15\n",
      "2020-01-03   8   9  10  11\n",
      "2020-01-02   4   5   6   7\n",
      "2020-01-01   0   1   2   3 \n",
      "\n",
      "             A   B   C   D\n",
      "2020-01-01   0   1   2   3\n",
      "2020-01-02   4   5   6   7\n",
      "2020-01-03   8   9  10  11\n",
      "2020-01-04  12  13  14  15\n",
      "2020-01-05  16  17  18  19\n",
      "2020-01-06  20  21  22  23\n"
     ]
    }
   ],
   "source": [
    "df_1 = pd.DataFrame(np.arange(24).reshape(6, 4), index=dates, columns=list('ABCD'))\n",
    "print(df_1, '\\n')\n",
    "print(df_1.sort_values(by=['B', 'D'], ascending=[False, True]), '\\n')\n",
    "print(df_1.sort_values(by=['B', 'D'], ascending=[True, True]))"
   ]
  },
  {
   "cell_type": "markdown",
   "metadata": {},
   "source": [
    "# Selection"
   ]
  },
  {
   "cell_type": "code",
   "execution_count": 90,
   "metadata": {},
   "outputs": [
    {
     "name": "stdout",
     "output_type": "stream",
     "text": [
      "2020-01-01   -1.697775\n",
      "2020-01-02   -1.641806\n",
      "2020-01-03    0.382440\n",
      "2020-01-04    1.709317\n",
      "2020-01-05   -0.283077\n",
      "2020-01-06    1.479968\n",
      "Freq: D, Name: A, dtype: float64\n"
     ]
    }
   ],
   "source": [
    "print(df['A'])      # axis=1"
   ]
  },
  {
   "cell_type": "code",
   "execution_count": 92,
   "metadata": {},
   "outputs": [
    {
     "name": "stdout",
     "output_type": "stream",
     "text": [
      "                   A         B         C         D\n",
      "2020-01-01 -1.697775 -1.377292  1.010088 -0.572160\n",
      "2020-01-02 -1.641806  0.953435 -0.423993  0.412334\n",
      "2020-01-03  0.382440 -0.628248 -0.373389  1.933298\n",
      "                   A         B         C         D\n",
      "2020-01-02 -1.641806  0.953435 -0.423993  0.412334\n",
      "2020-01-03  0.382440 -0.628248 -0.373389  1.933298\n",
      "2020-01-04  1.709317  0.594258 -0.785237  0.783878\n"
     ]
    }
   ],
   "source": [
    "print(df[0:3])      # axis=0\n",
    "print(df['20200102':'20200104'])    # 라벨 기반 슬라이싱은 끝 값 포함!!"
   ]
  },
  {
   "cell_type": "code",
   "execution_count": 114,
   "metadata": {},
   "outputs": [
    {
     "name": "stdout",
     "output_type": "stream",
     "text": [
      "                   A         B         C         D\n",
      "2020-01-01 -1.697775 -1.377292  1.010088 -0.572160\n",
      "2020-01-02 -1.641806  0.953435 -0.423993  0.412334\n",
      "2020-01-03  0.382440 -0.628248 -0.373389  1.933298\n",
      "2020-01-04  1.709317  0.594258 -0.785237  0.783878\n",
      "2020-01-05 -0.283077  0.911922  0.078006  0.952589\n",
      "2020-01-06  1.479968 -1.315190  1.510730  0.630564 \n",
      "\n",
      "A   -1.697775\n",
      "B   -1.377292\n",
      "C    1.010088\n",
      "D   -0.572160\n",
      "Name: 2020-01-01 00:00:00, dtype: float64 \n",
      "\n",
      "2020-01-01    1.010088\n",
      "2020-01-02   -0.423993\n",
      "2020-01-03   -0.373389\n",
      "2020-01-04   -0.785237\n",
      "2020-01-05    0.078006\n",
      "2020-01-06    1.510730\n",
      "Freq: D, Name: C, dtype: float64\n"
     ]
    }
   ],
   "source": [
    "# loc = location 약자, loc[행, 열] 형태로 사용\n",
    "# loc : selection by label\n",
    "print(df.loc[:, :], '\\n')\n",
    "print(df.loc[dates[0]], '\\n')\n",
    "print(df.loc[:, 'C'])   # print(df['A']) 와 같음"
   ]
  },
  {
   "cell_type": "code",
   "execution_count": 110,
   "metadata": {},
   "outputs": [
    {
     "name": "stdout",
     "output_type": "stream",
     "text": [
      "                   A         B\n",
      "2020-01-01 -1.697775 -1.377292\n",
      "2020-01-02 -1.641806  0.953435\n",
      "2020-01-03  0.382440 -0.628248\n",
      "2020-01-04  1.709317  0.594258\n",
      "2020-01-05 -0.283077  0.911922\n",
      "2020-01-06  1.479968 -1.315190 \n",
      "\n",
      "                   A         C\n",
      "2020-01-02 -1.641806 -0.423993\n",
      "2020-01-03  0.382440 -0.373389\n",
      "2020-01-04  1.709317 -0.785237 \n",
      "\n",
      "A   -1.641806\n",
      "B    0.953435\n",
      "Name: 2020-01-02 00:00:00, dtype: float64 \n",
      "\n",
      "-1.6977753270686504\n"
     ]
    }
   ],
   "source": [
    "print(df.loc[:, ['A','B']], '\\n')\n",
    "print(df.loc['20200102':'20200104', ['A','C']], '\\n')\n",
    "print(df.loc['20200102', ['A','B']], '\\n')\n",
    "print(df.loc[dates[0], 'A'])"
   ]
  },
  {
   "cell_type": "code",
   "execution_count": 116,
   "metadata": {},
   "outputs": [
    {
     "name": "stdout",
     "output_type": "stream",
     "text": [
      "                   A         B         C         D\n",
      "2020-01-01 -1.697775 -1.377292  1.010088 -0.572160\n",
      "2020-01-02 -1.641806  0.953435 -0.423993  0.412334\n",
      "2020-01-03  0.382440 -0.628248 -0.373389  1.933298\n",
      "2020-01-04  1.709317  0.594258 -0.785237  0.783878\n",
      "2020-01-05 -0.283077  0.911922  0.078006  0.952589\n",
      "2020-01-06  1.479968 -1.315190  1.510730  0.630564 \n",
      "\n",
      "A    1.709317\n",
      "B    0.594258\n",
      "C   -0.785237\n",
      "D    0.783878\n",
      "Name: 2020-01-04 00:00:00, dtype: float64\n"
     ]
    }
   ],
   "source": [
    "# iloc = integer location\n",
    "# iloc : selection by position\n",
    "# iloc 와 loc의 차이점 : iloc는 숫자로 접근, loc는 이름으로 접근\n",
    "print(df, '\\n')\n",
    "print(df.iloc[3])"
   ]
  },
  {
   "cell_type": "code",
   "execution_count": 122,
   "metadata": {},
   "outputs": [
    {
     "name": "stdout",
     "output_type": "stream",
     "text": [
      "                   A         B\n",
      "2020-01-04  1.709317  0.594258\n",
      "2020-01-05 -0.283077  0.911922 \n",
      "\n",
      "                   A         C\n",
      "2020-01-02 -1.641806 -0.423993\n",
      "2020-01-03  0.382440 -0.373389\n",
      "2020-01-05 -0.283077  0.078006 \n",
      "\n",
      "                   A         B         C         D\n",
      "2020-01-02 -1.641806  0.953435 -0.423993  0.412334\n",
      "2020-01-03  0.382440 -0.628248 -0.373389  1.933298 \n",
      "\n",
      "                   B         C\n",
      "2020-01-01 -1.377292  1.010088\n",
      "2020-01-02  0.953435 -0.423993\n",
      "2020-01-03 -0.628248 -0.373389\n",
      "2020-01-04  0.594258 -0.785237\n",
      "2020-01-05  0.911922  0.078006\n",
      "2020-01-06 -1.315190  1.510730 \n",
      "\n",
      "0.9534352039335712\n"
     ]
    }
   ],
   "source": [
    "print(df.iloc[3:5, 0:2], '\\n')\n",
    "print(df.iloc[[1, 2, 4], [0, 2]], '\\n')\n",
    "print(df.iloc[1:3, :], '\\n')\n",
    "print(df.iloc[:, 1:3], '\\n')\n",
    "print(df.iloc[1, 1])"
   ]
  },
  {
   "cell_type": "code",
   "execution_count": 124,
   "metadata": {},
   "outputs": [
    {
     "name": "stdout",
     "output_type": "stream",
     "text": [
      "                   A         B         C         D\n",
      "2020-01-03  0.382440 -0.628248 -0.373389  1.933298\n",
      "2020-01-04  1.709317  0.594258 -0.785237  0.783878\n",
      "2020-01-06  1.479968 -1.315190  1.510730  0.630564\n",
      "                   A         B         C         D\n",
      "2020-01-01       NaN       NaN  1.010088       NaN\n",
      "2020-01-02       NaN  0.953435       NaN  0.412334\n",
      "2020-01-03  0.382440       NaN       NaN  1.933298\n",
      "2020-01-04  1.709317  0.594258       NaN  0.783878\n",
      "2020-01-05       NaN  0.911922  0.078006  0.952589\n",
      "2020-01-06  1.479968       NaN  1.510730  0.630564\n"
     ]
    }
   ],
   "source": [
    "# Boolean indexing\n",
    "print(df[df.A > 0], '\\n')     # A열의 값이 0보다 클때만 출력\n",
    "print(df[df > 0])"
   ]
  },
  {
   "cell_type": "code",
   "execution_count": 6,
   "metadata": {},
   "outputs": [
    {
     "name": "stdout",
     "output_type": "stream",
     "text": [
      "2020-01-01    1\n",
      "2020-01-02    2\n",
      "2020-01-03    3\n",
      "2020-01-04    4\n",
      "2020-01-05    5\n",
      "2020-01-06    6\n",
      "Freq: D, dtype: int64\n"
     ]
    }
   ],
   "source": [
    "# Setting\n",
    "import pandas as pd\n",
    "import numpy as np\n",
    "dates = pd.date_range('20200101', periods=6)\n",
    "df = pd.DataFrame(np.random.randn(6, 4), index=dates, columns=list('ABCD'))\n",
    "\n",
    "s1 = pd.Series(range(1,7), index=dates)\n",
    "print(s1)"
   ]
  },
  {
   "cell_type": "code",
   "execution_count": 8,
   "metadata": {},
   "outputs": [
    {
     "name": "stdout",
     "output_type": "stream",
     "text": [
      "                   A         B         C    D  F\n",
      "2020-01-01  0.000000  0.000000 -0.014464  5.0  1\n",
      "2020-01-02 -1.463514  0.341657  0.273367  5.0  2\n",
      "2020-01-03 -0.097122 -1.103338  0.797450  5.0  3\n",
      "2020-01-04 -2.058196 -0.328733  0.788545  5.0  4\n",
      "2020-01-05  2.073241 -0.011768  0.917069  5.0  5\n",
      "2020-01-06  0.190125  0.260295 -0.153930  5.0  6 \n",
      "\n",
      "                   A         B         C    D  F\n",
      "2020-01-01  0.000000  0.000000 -0.014464  5.0  1\n",
      "2020-01-02 -1.463514  0.341657  0.273367  5.0  2\n",
      "2020-01-03 -0.097122 -1.103338  0.797450  5.0  3\n",
      "2020-01-04 -2.058196 -0.328733  0.788545  5.0  4\n",
      "2020-01-05  2.073241 -0.011768  0.917069  5.0  5\n",
      "2020-01-06  0.190125  0.260295 -0.153930  5.0  6 \n",
      "\n",
      "                   A         B         C    D  F\n",
      "2020-01-01  0.000000  0.000000 -0.014464  5.0  1\n",
      "2020-01-02 -1.463514  0.341657  0.273367  5.0  2\n",
      "2020-01-03 -0.097122 -1.103338  0.797450  5.0  3\n",
      "2020-01-04 -2.058196 -0.328733  0.788545  5.0  4\n",
      "2020-01-05  2.073241 -0.011768  0.917069  5.0  5\n",
      "2020-01-06  0.190125  0.260295 -0.153930  5.0  6\n"
     ]
    }
   ],
   "source": [
    "df['F'] = s1\n",
    "print(df, '\\n')\n",
    "\n",
    "# at, iat : 하나의 값 (스칼라 값) 에만 접근\n",
    "# at : label 기준\n",
    "df.at[dates[0], 'A'] = 0\n",
    "print(df, '\\n')\n",
    "\n",
    "# iat : position 기준\n",
    "df.iat[0, 1] = 0\n",
    "print(df)"
   ]
  },
  {
   "cell_type": "code",
   "execution_count": 9,
   "metadata": {},
   "outputs": [
    {
     "name": "stdout",
     "output_type": "stream",
     "text": [
      "                   A         B         C    D  F\n",
      "2020-01-01  0.000000  0.000000 -0.014464  5.0  1\n",
      "2020-01-02 -1.463514  0.341657  0.273367  5.0  2\n",
      "2020-01-03 -0.097122 -1.103338  0.797450  5.0  3\n",
      "2020-01-04 -2.058196 -0.328733  0.788545  5.0  4\n",
      "2020-01-05  2.073241 -0.011768  0.917069  5.0  5\n",
      "2020-01-06  0.190125  0.260295 -0.153930  5.0  6\n"
     ]
    }
   ],
   "source": [
    "df.loc[:, 'D'] = np.array([5] * len(df))\n",
    "print(df)"
   ]
  }
 ],
 "metadata": {
  "kernelspec": {
   "display_name": "base",
   "language": "python",
   "name": "python3"
  },
  "language_info": {
   "codemirror_mode": {
    "name": "ipython",
    "version": 3
   },
   "file_extension": ".py",
   "mimetype": "text/x-python",
   "name": "python",
   "nbconvert_exporter": "python",
   "pygments_lexer": "ipython3",
   "version": "3.12.4"
  }
 },
 "nbformat": 4,
 "nbformat_minor": 2
}
