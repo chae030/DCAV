{
 "cells": [
  {
   "cell_type": "markdown",
   "metadata": {},
   "source": [
    "# 웹 데이터 수집 - 실습 과제"
   ]
  },
  {
   "cell_type": "code",
   "execution_count": 17,
   "metadata": {},
   "outputs": [],
   "source": [
    "from selenium import webdriver\n",
    "from selenium.webdriver.chrome.service import Service\n",
    "from selenium.webdriver.common.by import By\n",
    "import time\n",
    "from selenium.webdriver.common.keys import Keys\n",
    "import pandas as pd\n",
    "\n",
    "service = Service(\"/Users/parkchaeyeon/Desktop/GitHub/Data collection and visualization/chromedriver-mac-arm64/chromedriver\")\n",
    "driver = webdriver.Chrome(service = service)"
   ]
  },
  {
   "cell_type": "code",
   "execution_count": 12,
   "metadata": {},
   "outputs": [],
   "source": [
    "# 네이버에서 \"제니\" 입력 후 뉴스 탭 클릭하여 출력되는 뉴스 제목 수집, csv파일로 저장\n",
    "\n",
    "url_naver = \"https://www.naver.com/\"\n",
    "driver.get(url_naver)\n",
    "time.sleep(3)\n",
    "\n",
    "element = driver.find_element(By.CSS_SELECTOR, \"#query\")\n",
    "element.send_keys(\"제니\")\n",
    "element.send_keys(Keys.RETURN)\n",
    "time.sleep(3)\n",
    "\n",
    "driver.find_element(By.CSS_SELECTOR, \".flick_bx:nth-child(2)\").click()\n",
    "time.sleep(3)\n",
    "\n",
    "news_tit = driver.find_elements(By.CSS_SELECTOR, \".news_tit\")\n",
    "title = []\n",
    "for tit in news_tit :\n",
    "    title.append(tit.text)\n",
    "    \n",
    "news_title_df = pd.DataFrame(title)\n",
    "news_title_df.to_csv(\"jennie_news_titles.csv\", encoding=\"utf-8-sig\", index=False)"
   ]
  },
  {
   "cell_type": "code",
   "execution_count": null,
   "metadata": {},
   "outputs": [
    {
     "ename": "IndexError",
     "evalue": "list index out of range",
     "output_type": "error",
     "traceback": [
      "\u001b[0;31m---------------------------------------------------------------------------\u001b[0m",
      "\u001b[0;31mIndexError\u001b[0m                                Traceback (most recent call last)",
      "Cell \u001b[0;32mIn[18], line 13\u001b[0m\n\u001b[1;32m     10\u001b[0m rating_star_list \u001b[38;5;241m=\u001b[39m driver\u001b[38;5;241m.\u001b[39mfind_elements(By\u001b[38;5;241m.\u001b[39mCSS_SELECTOR, \u001b[38;5;124m\"\u001b[39m\u001b[38;5;124mipc-rating-star--rating\u001b[39m\u001b[38;5;124m\"\u001b[39m)\n\u001b[1;32m     12\u001b[0m \u001b[38;5;28;01mfor\u001b[39;00m i \u001b[38;5;129;01min\u001b[39;00m \u001b[38;5;28mrange\u001b[39m(\u001b[38;5;241m10\u001b[39m) :\n\u001b[0;32m---> 13\u001b[0m     \u001b[38;5;28mprint\u001b[39m(\u001b[38;5;124mf\u001b[39m\u001b[38;5;124m\"\u001b[39m\u001b[38;5;132;01m{\u001b[39;00mi\u001b[38;5;241m+\u001b[39m\u001b[38;5;241m1\u001b[39m\u001b[38;5;132;01m}\u001b[39;00m\u001b[38;5;124m위 : \u001b[39m\u001b[38;5;132;01m{\u001b[39;00mtitle_list[i]\u001b[38;5;241m.\u001b[39mtext\u001b[38;5;132;01m}\u001b[39;00m\u001b[38;5;124m , \u001b[39m\u001b[38;5;132;01m{\u001b[39;00mrating_star_list[i]\u001b[38;5;241m.\u001b[39mtext\u001b[38;5;132;01m}\u001b[39;00m\u001b[38;5;124m\"\u001b[39m)\n",
      "\u001b[0;31mIndexError\u001b[0m: list index out of range"
     ]
    }
   ],
   "source": [
    "# 상위 1-10위 인기 영화 정보 (순위, 제목, 평점) 가져오고 csv파일로 저장\n",
    "\n",
    "url_imdb = \"https://www.imdb.com/chart/tvmeter/?ref_=nv_tvv_mptv\"\n",
    "driver.get(url_imdb)\n",
    "time.sleep(2)\n",
    "\n",
    "rank = driver.find_elements(By.CSS_SELECTOR, \".sc-b8b74125-0.ilwIpP.meter-const-ranking.sc-e8bccfea-5.dAzoZR.cli-meter-title-header\")\n",
    "\n",
    "title_list = driver.find_elements(By.CSS_SELECTOR, \".ipc-title__text\")\n",
    "rating_star_list = driver.find_elements(By.CSS_SELECTOR, \".ipc-rating-star--rating\")\n",
    "\n",
    "for i in range(10) :\n",
    "    print(f\"{i+1}위 : {title_list[i].text} , {rating_star_list[i].text}\")"
   ]
  }
 ],
 "metadata": {
  "kernelspec": {
   "display_name": "base",
   "language": "python",
   "name": "python3"
  },
  "language_info": {
   "codemirror_mode": {
    "name": "ipython",
    "version": 3
   },
   "file_extension": ".py",
   "mimetype": "text/x-python",
   "name": "python",
   "nbconvert_exporter": "python",
   "pygments_lexer": "ipython3",
   "version": "3.12.4"
  }
 },
 "nbformat": 4,
 "nbformat_minor": 2
}
