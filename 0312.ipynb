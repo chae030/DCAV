{
 "cells": [
  {
   "cell_type": "code",
   "execution_count": 2,
   "metadata": {},
   "outputs": [
    {
     "name": "stdout",
     "output_type": "stream",
     "text": [
      "C학점입니다.\n"
     ]
    }
   ],
   "source": [
    "# 학점 조건문\n",
    "\n",
    "score = int(input(\"성적을 입력하세요 : \"))\n",
    "\n",
    "if score >= 90 :\n",
    "    print(\"A학점입니다.\")\n",
    "elif score >= 80 :\n",
    "    print(\"B학점입니다.\")\n",
    "elif score >= 70 :\n",
    "    print(\"C학점입니다.\")\n",
    "else :\n",
    "    print(\"F학점입니다.\")"
   ]
  },
  {
   "cell_type": "code",
   "execution_count": 4,
   "metadata": {},
   "outputs": [
    {
     "name": "stdout",
     "output_type": "stream",
     "text": [
      "5050\n"
     ]
    }
   ],
   "source": [
    "# 반복문 1\n",
    "\n",
    "i = 1\n",
    "k = 0\n",
    "while i <= 100 :\n",
    "    k += i\n",
    "    i = i + 1\n",
    "    \n",
    "print(k)"
   ]
  },
  {
   "cell_type": "code",
   "execution_count": 5,
   "metadata": {},
   "outputs": [
    {
     "name": "stdout",
     "output_type": "stream",
     "text": [
      "171700\n"
     ]
    }
   ],
   "source": [
    "# 반복문 2\n",
    "\n",
    "i = 1\n",
    "k = 0\n",
    "\n",
    "while i <= 100 :   \n",
    "    if i % 2 == 0 :\n",
    "        k += i ** 2\n",
    "    i = i + 1\n",
    "\n",
    "print(k)"
   ]
  },
  {
   "cell_type": "code",
   "execution_count": 7,
   "metadata": {},
   "outputs": [
    {
     "name": "stdout",
     "output_type": "stream",
     "text": [
      "3628800\n"
     ]
    }
   ],
   "source": [
    "# 반복문 3\n",
    "\n",
    "n = int(input(\"n을 입력하세요 : \"))\n",
    "k = 1\n",
    "\n",
    "for i in range(1, n+1) :\n",
    "    k *= i\n",
    "\n",
    "print(k)"
   ]
  },
  {
   "cell_type": "code",
   "execution_count": 8,
   "metadata": {},
   "outputs": [
    {
     "name": "stdout",
     "output_type": "stream",
     "text": [
      "[0, 0, 0, 0, 0]\n",
      "[0, 0, 0, 0, 0]\n",
      "[0, 0, 0, 0, 0]\n",
      "[0, 0, 0, 0, 0]\n",
      "[0, 0, 0, 0, 0]\n"
     ]
    }
   ],
   "source": [
    "# matrix 만들기 1\n",
    "\n",
    "n = 5\n",
    "matrix = []\n",
    "for i in range(n) :\n",
    "    row = []\n",
    "    for j in range(n) :\n",
    "        row.append(0)\n",
    "    matrix.append(row)\n",
    "for row in matrix :\n",
    "    print(row)"
   ]
  },
  {
   "cell_type": "code",
   "execution_count": 13,
   "metadata": {},
   "outputs": [
    {
     "name": "stdout",
     "output_type": "stream",
     "text": [
      "[1, 0, 0, 0, 0]\n",
      "[0, 1, 0, 0, 0]\n",
      "[0, 0, 1, 0, 0]\n",
      "[0, 0, 0, 1, 0]\n",
      "[0, 0, 0, 0, 1]\n"
     ]
    }
   ],
   "source": [
    "# matrix 만들기 2\n",
    "\n",
    "n = 5\n",
    "identity_matrix = []\n",
    "for i in range(n) :\n",
    "    row = []\n",
    "    for j in range(n) :\n",
    "        if j == i :\n",
    "            row.append(1)\n",
    "        else :\n",
    "            row.append(0)\n",
    "    identity_matrix.append(row)\n",
    "for row in identity_matrix :\n",
    "    print(row)"
   ]
  },
  {
   "cell_type": "code",
   "execution_count": 14,
   "metadata": {},
   "outputs": [
    {
     "name": "stdout",
     "output_type": "stream",
     "text": [
      "[1, 0, 0, 0, 0]\n",
      "[0, 2, 0, 0, 0]\n",
      "[0, 0, 3, 0, 0]\n",
      "[0, 0, 0, 4, 0]\n",
      "[0, 0, 0, 0, 5]\n"
     ]
    }
   ],
   "source": [
    "# matrix 만들기 3\n",
    "\n",
    "n = 5\n",
    "matrix = []\n",
    "for i in range(n) :\n",
    "    row = []\n",
    "    for j in range(n) :\n",
    "        row.append(0)\n",
    "    matrix.append(row)\n",
    "for i in range(n) :\n",
    "    matrix[i][i] = i + 1\n",
    "for row in matrix :\n",
    "    print(row)"
   ]
  },
  {
   "cell_type": "code",
   "execution_count": 15,
   "metadata": {},
   "outputs": [
    {
     "name": "stdout",
     "output_type": "stream",
     "text": [
      "[1, 2, 3, 4, 5]\n",
      "[6, 7, 8, 9, 10]\n",
      "[11, 12, 13, 14, 15]\n",
      "[16, 17, 18, 19, 20]\n",
      "[21, 22, 23, 24, 25]\n"
     ]
    }
   ],
   "source": [
    "# matrix 만들기 4\n",
    "\n",
    "n = 5\n",
    "matrix = []\n",
    "for i in range(n) :\n",
    "    row = [0] * n\n",
    "    matrix.append(row)\n",
    "count = 1\n",
    "for i in range(n) :\n",
    "    for j in range(n) :\n",
    "        matrix[i][j] = count\n",
    "        count = count + 1\n",
    "for row in matrix :\n",
    "    print(row)"
   ]
  }
 ],
 "metadata": {
  "kernelspec": {
   "display_name": "Python 3",
   "language": "python",
   "name": "python3"
  },
  "language_info": {
   "codemirror_mode": {
    "name": "ipython",
    "version": 3
   },
   "file_extension": ".py",
   "mimetype": "text/x-python",
   "name": "python",
   "nbconvert_exporter": "python",
   "pygments_lexer": "ipython3",
   "version": "3.13.1"
  }
 },
 "nbformat": 4,
 "nbformat_minor": 2
}
