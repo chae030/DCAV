{
 "cells": [
  {
   "cell_type": "markdown",
   "metadata": {},
   "source": [
    "< 저번 주 내용 >"
   ]
  },
  {
   "cell_type": "code",
   "execution_count": 1,
   "metadata": {},
   "outputs": [
    {
     "name": "stdout",
     "output_type": "stream",
     "text": [
      "12.40\n",
      "2.36\n"
     ]
    }
   ],
   "source": [
    "import requests\n",
    "from bs4 import BeautifulSoup\n",
    "\n",
    "url = \"https://finance.naver.com/item/main.naver?code=005930\"\n",
    "headers = {'User-Agent' : 'Mozila/5.0'}\n",
    "response = requests.get(url, headers = headers)\n",
    "soup = BeautifulSoup(response.content, \"html.parser\", from_encoding=\"utf-8\")\n",
    "\n",
    "per_list = soup.select(\"#_per\")\n",
    "per = soup.select_one(\"#_per\")\n",
    "print(per.text)\n",
    "\n",
    "dvr_list = soup.select(\"#_dvr\")\n",
    "dvr = soup.select_one(\"#_dvr\")\n",
    "print(dvr.text)"
   ]
  },
  {
   "cell_type": "code",
   "execution_count": 2,
   "metadata": {},
   "outputs": [
    {
     "name": "stdout",
     "output_type": "stream",
     "text": [
      "게임공학과\n",
      "인공지능학과\n",
      "컴퓨터공학부\n",
      "자율전공\n",
      "전자공학부\n",
      "반도체공학부\n",
      "자율전공\n",
      "기계공학과\n",
      "기계설계공학부\n",
      "메카트로닉스공학부\n",
      "자율전공\n",
      "신소재공학과\n",
      "생명화학공학과\n",
      "에너지ㆍ전기공학부\n",
      "경영학부\n",
      "디자인공학부\n",
      "지식융합학부\n",
      "GAME & MULTIMEDIA ENGINEERING\n",
      "ARTIFICIAL INTELLIGENCE\n",
      "COMPUTER ENGINEERING\n",
      "DEPARTMENT OF UNDECLARED MAJORS\n",
      "ELECTRONICS ENGINEERING\n",
      "DEPARTMENT OF SEMICONDUCTOR ENGINEERING\n",
      "DEPARTMENT OF UNDECLARED MAJORS\n",
      "MECHANICAL ENGINEERING\n",
      "MECHANICAL DESIGN ENGINEERING\n",
      "MECHATRONICS ENGINEERING\n",
      "DEPARTMENT OF UNDECLARED MAJORS\n",
      "ADVANCED MATERIALS ENGINEERING\n",
      "CHEMICAL ENGINEERING & BIOTECHNOLOGY\n",
      "ENERGY & ELECTRICAL ENGINEERING\n",
      "BUSINESS ADMINISTRATION\n",
      "DESIGN ENGINEERING\n",
      "DEPARTMENT OF LIBERAL ARTS\n",
      "\n",
      "게임공학과GAME & MULTIMEDIA ENGINEERING\n",
      "인생은 길고 긴 게임, 첨단 산업 게임에 승부를 건다\n",
      "\n",
      "\n",
      "인공지능학과ARTIFICIAL INTELLIGENCE\n",
      "첨단 IT지식과 창의적 소프트웨어 역량을 갖춘 AI 전문 인재양성\n",
      "\n",
      "\n",
      "컴퓨터공학부COMPUTER ENGINEERING\n",
      "\n",
      "컴퓨터공학전공\n",
      "소프트웨어전공\n",
      "\n",
      "소프트웨어를 정복하는 자가 세계를 지배하는 시대, 컴퓨터 공학부를 꿈꾸는 자가 그 주인공\n",
      "\n",
      "\n",
      "자율전공DEPARTMENT OF UNDECLARED MAJORS\n",
      "IT반도체융합대학의 다양한 전공을 탐색하는 1학년 과정\n",
      "\n",
      "\n",
      "전자공학부ELECTRONICS ENGINEERING\n",
      "\n",
      "전자공학전공\n",
      "임베디드시스템전공\n",
      "\n",
      "디지털에도 36.5도의 뜨거운 피는 흐른다\n",
      "\n",
      "\n",
      "반도체공학부DEPARTMENT OF SEMICONDUCTOR ENGINEERING\n",
      "\n",
      "나노반도체공학전공\n",
      "반도체시스템전공\n",
      "\n",
      "미래 반도체 기술을 선도하는 인재 양성의 요람\n",
      "\n",
      "\n",
      "자율전공DEPARTMENT OF UNDECLARED MAJORS\n",
      "스마트기계융합대학의 다양한 전공을 탐색하는 1학년 과정\n",
      "\n",
      "\n",
      "기계공학과MECHANICAL ENGINEERING\n",
      "차가운 기계로부터 뜨거운 젊음의 열정을 배운다\n",
      "\n",
      "\n",
      "기계설계공학부MECHANICAL DESIGN ENGINEERING\n",
      "\n",
      "기계설계전공\n",
      "지능형모빌리티전공\n",
      "\n",
      "세상을 움직이는 새로운 기계를 창조한다\n",
      "\n",
      "\n",
      "메카트로닉스공학부MECHATRONICS ENGINEERING\n",
      "\n",
      "메카트로닉스전공\n",
      "AI로봇전공\n",
      "\n",
      "메카트로닉스를 통한 다양한 제어시스템의 창의적 구현\n",
      "\n",
      "\n",
      "자율전공DEPARTMENT OF UNDECLARED MAJORS\n",
      "첨단융합대학의 다양한 전공을 탐색하는 1학년 과정\n",
      "\n",
      "\n",
      "신소재공학과ADVANCED MATERIALS ENGINEERING\n",
      "세계최초의 신소재 개발, 그 꿈을 위해 멈추지 않는다\n",
      "\n",
      "\n",
      "생명화학공학과CHEMICAL ENGINEERING & BIOTECHNOLOGY\n",
      "화학공학과 바이오공학의 융복합 인재를 배출하고 있는 HOT한 학과!!!\n",
      "\n",
      "\n",
      "에너지ㆍ전기공학부ENERGY & ELECTRICAL ENGINEERING\n",
      "\n",
      "전력응용시스템전공\n",
      "미래에너지시스템전공\n",
      "\n",
      "세상을 움직이는 신 성장 에너지를 이끌어내다\n",
      "\n",
      "\n",
      "경영학부BUSINESS ADMINISTRATION\n",
      "\n",
      "경영학전공\n",
      "IT경영전공\n",
      "데이터사이언스경영전공\n",
      "\n",
      "경영과 IT서비스 융합 역량을 깆춘 4차 산업혁명시대의 리더\n",
      "\n",
      "\n",
      "디자인공학부DESIGN ENGINEERING\n",
      "\n",
      "산업디자인공학전공\n",
      "미디어디자인공학전공\n",
      "\n",
      "공학의 세계를 나만의 아름다움으로 디자인한다\n",
      "\n",
      "\n",
      "지식융합학부DEPARTMENT OF LIBERAL ARTS\n",
      "논리적인 사고력, 과학적이고 합리적인 전문지식의 교양인 양성\n",
      "\n"
     ]
    }
   ],
   "source": [
    "url_tukorea = \"https://www.tukorea.ac.kr/tukorea/3475/subview.do\"\n",
    "\n",
    "response = requests.get(url_tukorea, headers = headers)\n",
    "soup = BeautifulSoup(response.content, \"html.parser\", from_encoding=\"utf-8\")\n",
    "\n",
    "dept_list = soup.select(\".con strong\")\n",
    "for d in dept_list :\n",
    "    print(d.text)\n",
    "    \n",
    "dept_en_list = soup.select(\".p_1 span\")\n",
    "for d in dept_en_list :\n",
    "    print(d.text)\n",
    "    \n",
    "con = soup.select(\".con\")\n",
    "for c in con :\n",
    "    print(c.text)"
   ]
  },
  {
   "cell_type": "markdown",
   "metadata": {},
   "source": [
    "삼성전자 외국인소진율 추출"
   ]
  },
  {
   "cell_type": "code",
   "execution_count": 36,
   "metadata": {},
   "outputs": [
    {
     "name": "stdout",
     "output_type": "stream",
     "text": [
      "50.67%\n"
     ]
    }
   ],
   "source": [
    "url_finance_naver = \"https://finance.naver.com/item/main.naver?code=005930\"\n",
    "\n",
    "response = requests.get(url_finance_naver, headers = headers)\n",
    "soup = BeautifulSoup(response.content, \"html.parser\", from_encoding=\"utf-8\")\n",
    "\n",
    "lwidth = soup.select_one(\".gray > .lwidth > .strong > td > em\")\n",
    "print(lwidth.text)"
   ]
  },
  {
   "cell_type": "markdown",
   "metadata": {},
   "source": [
    "네이버 뉴스에 한국공학대 검색했을 때 나오는 언론사 이름 - 기사 제목 추출"
   ]
  },
  {
   "cell_type": "code",
   "execution_count": 27,
   "metadata": {},
   "outputs": [
    {
     "name": "stdout",
     "output_type": "stream",
     "text": [
      "머니투데이  -  한국공학대, 2년 연속 '대학교 국제개발협력 이해증진사업' 선정\n",
      "디지털타임스  -  한국공학대, ‘2025년 기술보호 전문인력 양성사업’ 최종 선정\n",
      "중앙이코노미뉴스  -  한국공학대, '2025 핵심Lab(TRL)사업' 지원약정 체결\n",
      "아시아경제  -  한국공학대, 기업교류회 창단식 개최\n",
      "베리타스알파  -  한국공학대 '2025 핵심Lab(TRL)사업' 지원약정 체결\n",
      "전자신문  -  한국공학대, 2025 핵심Lab 사업 약정 체결로 첨단 연구 지원 강화\n",
      "매일경제  -  한국공학대, 현장중심 교육으로 공학 선도\n",
      "교수신문  -  한국공학대, 기업교류회 비전 선포 및 창단식 개최\n",
      "데일리한국  -  구미대-HD현대건설기계-한국공학대, 기술 인력 양성 협약\n",
      "국제뉴스  -  한국공학대 박철우 부총장, 대진대서 지역 연계 협력하는 대학의 역할 ...\n"
     ]
    }
   ],
   "source": [
    "url_news_tukorea = \"https://search.naver.com/search.naver?where=news&ie=utf8&sm=nws_hty&query=%ED%95%9C%EA%B5%AD%EA%B3%B5%ED%95%99%EB%8C%80\"\n",
    "\n",
    "response = requests.get(url_news_tukorea, headers = headers)\n",
    "soup = BeautifulSoup(response.content, \"html.parser\", from_encoding=\"utf-8\")\n",
    "\n",
    "info_press_list = soup.select(\".info.press\")\n",
    "news_tit_list = soup.select(\".news_tit\")\n",
    "\n",
    "list_press = []\n",
    "list_tit = []\n",
    "for info_press in info_press_list :\n",
    "    list_press.append(info_press.text)\n",
    "for news_tit in news_tit_list :\n",
    "    list_tit.append(news_tit.text)\n",
    "for i in range(10) :\n",
    "    print(list_press[i], ' - ', list_tit[i])"
   ]
  },
  {
   "cell_type": "code",
   "execution_count": 1,
   "metadata": {},
   "outputs": [
    {
     "name": "stdout",
     "output_type": "stream",
     "text": [
      "hi\n"
     ]
    }
   ],
   "source": [
    "print(\"hi\")"
   ]
  }
 ],
 "metadata": {
  "kernelspec": {
   "display_name": "base",
   "language": "python",
   "name": "python3"
  },
  "language_info": {
   "codemirror_mode": {
    "name": "ipython",
    "version": 3
   },
   "file_extension": ".py",
   "mimetype": "text/x-python",
   "name": "python",
   "nbconvert_exporter": "python",
   "pygments_lexer": "ipython3",
   "version": "3.12.4"
  }
 },
 "nbformat": 4,
 "nbformat_minor": 2
}
