{
 "cells": [
  {
   "cell_type": "code",
   "execution_count": 1,
   "metadata": {},
   "outputs": [],
   "source": [
    "from selenium import webdriver\n",
    "from selenium.webdriver.chrome.service import Service\n",
    "from selenium.webdriver.common.by import By\n",
    "import time\n",
    "from selenium.webdriver.common.keys import Keys\n",
    "import pandas as pd\n",
    "\n",
    "service = Service(\"/Users/parkchaeyeon/Desktop/GitHub/Data collection and visualization/chromedriver-mac-arm64/chromedriver\")\n",
    "driver = webdriver.Chrome(service = service)"
   ]
  },
  {
   "cell_type": "code",
   "execution_count": 7,
   "metadata": {},
   "outputs": [
    {
     "name": "stdout",
     "output_type": "stream",
     "text": [
      "14\n"
     ]
    },
    {
     "ename": "IndexError",
     "evalue": "list index out of range",
     "output_type": "error",
     "traceback": [
      "\u001b[0;31m---------------------------------------------------------------------------\u001b[0m",
      "\u001b[0;31mIndexError\u001b[0m                                Traceback (most recent call last)",
      "Cell \u001b[0;32mIn[7], line 11\u001b[0m\n\u001b[1;32m      9\u001b[0m authors \u001b[38;5;241m=\u001b[39m driver\u001b[38;5;241m.\u001b[39mfind_elements(By\u001b[38;5;241m.\u001b[39mCSS_SELECTOR, \u001b[38;5;124m\"\u001b[39m\u001b[38;5;124mname_author\u001b[39m\u001b[38;5;124m\"\u001b[39m)\n\u001b[1;32m     10\u001b[0m \u001b[38;5;28;01mfor\u001b[39;00m i \u001b[38;5;129;01min\u001b[39;00m \u001b[38;5;28mrange\u001b[39m(\u001b[38;5;28mlen\u001b[39m(titles)) :\n\u001b[0;32m---> 11\u001b[0m     \u001b[38;5;28mprint\u001b[39m(titles[i]\u001b[38;5;241m.\u001b[39mtext\u001b[38;5;241m.\u001b[39mstrip(), authors[i]\u001b[38;5;241m.\u001b[39mtext\u001b[38;5;241m.\u001b[39mstrip())\n\u001b[1;32m     12\u001b[0m     title \u001b[38;5;241m=\u001b[39m titles[i]\u001b[38;5;241m.\u001b[39mtext\u001b[38;5;241m.\u001b[39mstrip()\n\u001b[1;32m     13\u001b[0m     author \u001b[38;5;241m=\u001b[39m authors[i]\u001b[38;5;241m.\u001b[39mtext\u001b[38;5;241m.\u001b[39mstrip()\n",
      "\u001b[0;31mIndexError\u001b[0m: list index out of range"
     ]
    }
   ],
   "source": [
    "data = []\n",
    "\n",
    "for i in range(1,6):\n",
    "    url =\"https://section.blog.naver.com/Search/Post.naver?pageNo=\"+str(i)+\"&rangeType=ALL&orderBy=sim&keyword=%ED%83%84%ED%95%B5\"\n",
    "    driver.get(url)\n",
    "    time.sleep(2)\n",
    "    titles = driver.find_elements(By.CSS_SELECTOR, \".title\")\n",
    "    authors = driver.find_elements(By.CSS_SELECTOR, \"name_author\")\n",
    "    for i in range(len(titles)) :\n",
    "        print(titles[i].text.strip(), authors[i].text.strip())\n",
    "        title = titles[i].text.strip()\n",
    "        author = authors[i].text.strip()\n",
    "        data.append ({\n",
    "            \"Title\" : title,\n",
    "            \"Author\" : author\n",
    "        })\n",
    "    time.sleep(2)\n",
    "df = pd.DataFrame(data)\n",
    "print(df)"
   ]
  },
  {
   "cell_type": "code",
   "execution_count": null,
   "metadata": {},
   "outputs": [],
   "source": []
  }
 ],
 "metadata": {
  "kernelspec": {
   "display_name": "Python 3 (ipykernel)",
   "language": "python",
   "name": "python3"
  },
  "language_info": {
   "codemirror_mode": {
    "name": "ipython",
    "version": 3
   },
   "file_extension": ".py",
   "mimetype": "text/x-python",
   "name": "python",
   "nbconvert_exporter": "python",
   "pygments_lexer": "ipython3",
   "version": "3.12.4"
  }
 },
 "nbformat": 4,
 "nbformat_minor": 4
}
